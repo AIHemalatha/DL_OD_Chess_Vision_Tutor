{
 "cells": [
  {
   "cell_type": "code",
   "execution_count": 1,
   "id": "db77f2c7",
   "metadata": {},
   "outputs": [],
   "source": [
    "import chess\n",
    "from ultralytics import YOLO\n",
    "from chess_engine.move_suggester import MoveSuggester\n",
    "from detection.draw_overlay import draw_overlay\n",
    "from utils.helpers import get_piece_positions\n",
    "from chess_engine.move_detector import detect_move\n",
    "import cv2"
   ]
  },
  {
   "cell_type": "code",
   "execution_count": 2,
   "id": "e8a6e8d9",
   "metadata": {},
   "outputs": [],
   "source": [
    "model = YOLO('weights/best.pt')\n",
    "cap = cv2.VideoCapture(\"Chess_video_example.mp4\")\n",
    "\n",
    "if not cap.isOpened():\n",
    "    print(\"Error: Cannot open video file\")\n",
    "    exit()\n",
    "#cap = cv2.VideoCapture(0)  # 0 means default webcam\n",
    "\n",
    "#if not cap.isOpened():\n",
    "#    print(\"Error: Cannot open webcam\")\n",
    "#    exit()"
   ]
  },
  {
   "cell_type": "code",
   "execution_count": 3,
   "id": "41d0e2ca",
   "metadata": {},
   "outputs": [
    {
     "name": "stdout",
     "output_type": "stream",
     "text": [
      "Last move: white-pawn e2->e3 | Next suggestion: e7e5\n",
      "Last move: black-knight c7->c6 | Next suggestion: d2d4\n"
     ]
    }
   ],
   "source": [
    "# Initialize components\n",
    "move_suggester = MoveSuggester()\n",
    "board = chess.Board()\n",
    "suggested = None\n",
    "prev_positions = {}\n",
    "\n",
    "while True:\n",
    "    ret, frame = cap.read()\n",
    "    if not ret:\n",
    "        break\n",
    "\n",
    "    results = model.predict(source=frame, conf=0.5, save=False, verbose=False)\n",
    "    piece_positions = get_piece_positions(results, frame.shape)\n",
    "\n",
    "    if prev_positions and piece_positions != prev_positions:\n",
    "        from_sq, to_sq, piece = detect_move(prev_positions, piece_positions)\n",
    "        if from_sq and to_sq and piece:\n",
    "            move_uci = from_sq + to_sq\n",
    "            move = chess.Move.from_uci(move_uci)\n",
    "            if move in board.legal_moves:\n",
    "                board.push(move)\n",
    "                suggested = move_suggester.suggest_move(board)\n",
    "                print(f\"Last move: {piece} {from_sq}->{to_sq} | Next suggestion: {suggested}\")\n",
    "\n",
    "    prev_positions = piece_positions\n",
    "    frame = draw_overlay(frame, piece_positions, suggestion=suggested, board=board)\n",
    "    cv2.imshow(\"Chess Tutor\", frame)\n",
    "    if cv2.waitKey(1) & 0xFF == ord('q'):\n",
    "        break\n",
    "\n",
    "# Cleanup\n",
    "move_suggester.quit()\n",
    "cv2.destroyAllWindows()\n"
   ]
  }
 ],
 "metadata": {
  "kernelspec": {
   "display_name": "Python (dl)",
   "language": "python",
   "name": "dl"
  },
  "language_info": {
   "codemirror_mode": {
    "name": "ipython",
    "version": 3
   },
   "file_extension": ".py",
   "mimetype": "text/x-python",
   "name": "python",
   "nbconvert_exporter": "python",
   "pygments_lexer": "ipython3",
   "version": "3.10.18"
  }
 },
 "nbformat": 4,
 "nbformat_minor": 5
}
